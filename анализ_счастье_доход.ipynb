{
  "nbformat": 4,
  "nbformat_minor": 0,
  "metadata": {
    "colab": {
      "provenance": []
    },
    "kernelspec": {
      "name": "python3",
      "display_name": "Python 3"
    },
    "language_info": {
      "name": "python"
    }
  },
  "cells": [
    {
      "cell_type": "code",
      "execution_count": null,
      "metadata": {
        "colab": {
          "base_uri": "https://localhost:8080/",
          "height": 713
        },
        "id": "wD__2JNVFvdE",
        "outputId": "8e01273c-e965-40ca-ba40-a0ea4ba7c64d"
      },
      "outputs": [
        {
          "output_type": "execute_result",
          "data": {
            "text/html": [
              "\n",
              "  <div id=\"df-b0f6ab8f-efed-4b23-b6e9-980cee4e8d15\">\n",
              "    <div class=\"colab-df-container\">\n",
              "      <div>\n",
              "<style scoped>\n",
              "    .dataframe tbody tr th:only-of-type {\n",
              "        vertical-align: middle;\n",
              "    }\n",
              "\n",
              "    .dataframe tbody tr th {\n",
              "        vertical-align: top;\n",
              "    }\n",
              "\n",
              "    .dataframe thead th {\n",
              "        text-align: right;\n",
              "    }\n",
              "</style>\n",
              "<table border=\"1\" class=\"dataframe\">\n",
              "  <thead>\n",
              "    <tr style=\"text-align: right;\">\n",
              "      <th></th>\n",
              "      <th>country</th>\n",
              "      <th>adjusted_satisfaction</th>\n",
              "      <th>avg_satisfaction</th>\n",
              "      <th>std_satisfaction</th>\n",
              "      <th>avg_income</th>\n",
              "      <th>median_income</th>\n",
              "      <th>income_inequality</th>\n",
              "      <th>region</th>\n",
              "      <th>happyScore</th>\n",
              "      <th>GDP</th>\n",
              "      <th>country.1</th>\n",
              "    </tr>\n",
              "  </thead>\n",
              "  <tbody>\n",
              "    <tr>\n",
              "      <th>0</th>\n",
              "      <td>Armenia</td>\n",
              "      <td>37.0</td>\n",
              "      <td>4.9</td>\n",
              "      <td>2.42</td>\n",
              "      <td>2096.76</td>\n",
              "      <td>1731.506667</td>\n",
              "      <td>31.445556</td>\n",
              "      <td>'Central and Eastern Europe'</td>\n",
              "      <td>4.350</td>\n",
              "      <td>0.76821</td>\n",
              "      <td>Armenia</td>\n",
              "    </tr>\n",
              "    <tr>\n",
              "      <th>1</th>\n",
              "      <td>Angola</td>\n",
              "      <td>26.0</td>\n",
              "      <td>4.3</td>\n",
              "      <td>3.19</td>\n",
              "      <td>1448.88</td>\n",
              "      <td>1044.240000</td>\n",
              "      <td>42.720000</td>\n",
              "      <td>'Sub-Saharan Africa'</td>\n",
              "      <td>4.033</td>\n",
              "      <td>0.75778</td>\n",
              "      <td>Angola</td>\n",
              "    </tr>\n",
              "    <tr>\n",
              "      <th>2</th>\n",
              "      <td>Argentina</td>\n",
              "      <td>60.0</td>\n",
              "      <td>7.1</td>\n",
              "      <td>1.91</td>\n",
              "      <td>7101.12</td>\n",
              "      <td>5109.400000</td>\n",
              "      <td>45.475556</td>\n",
              "      <td>'Latin America and Caribbean'</td>\n",
              "      <td>6.574</td>\n",
              "      <td>1.05351</td>\n",
              "      <td>Argentina</td>\n",
              "    </tr>\n",
              "    <tr>\n",
              "      <th>3</th>\n",
              "      <td>Austria</td>\n",
              "      <td>59.0</td>\n",
              "      <td>7.2</td>\n",
              "      <td>2.11</td>\n",
              "      <td>19457.04</td>\n",
              "      <td>16879.620000</td>\n",
              "      <td>30.296250</td>\n",
              "      <td>'Western Europe'</td>\n",
              "      <td>7.200</td>\n",
              "      <td>1.33723</td>\n",
              "      <td>Austria</td>\n",
              "    </tr>\n",
              "    <tr>\n",
              "      <th>4</th>\n",
              "      <td>Australia</td>\n",
              "      <td>65.0</td>\n",
              "      <td>7.6</td>\n",
              "      <td>1.80</td>\n",
              "      <td>19917.00</td>\n",
              "      <td>15846.060000</td>\n",
              "      <td>35.285000</td>\n",
              "      <td>'Australia and New Zealand'</td>\n",
              "      <td>7.284</td>\n",
              "      <td>1.33358</td>\n",
              "      <td>Australia</td>\n",
              "    </tr>\n",
              "    <tr>\n",
              "      <th>...</th>\n",
              "      <td>...</td>\n",
              "      <td>...</td>\n",
              "      <td>...</td>\n",
              "      <td>...</td>\n",
              "      <td>...</td>\n",
              "      <td>...</td>\n",
              "      <td>...</td>\n",
              "      <td>...</td>\n",
              "      <td>...</td>\n",
              "      <td>...</td>\n",
              "      <td>...</td>\n",
              "    </tr>\n",
              "    <tr>\n",
              "      <th>106</th>\n",
              "      <td>Uruguay</td>\n",
              "      <td>58.0</td>\n",
              "      <td>7.0</td>\n",
              "      <td>2.13</td>\n",
              "      <td>7544.40</td>\n",
              "      <td>5269.226667</td>\n",
              "      <td>45.014444</td>\n",
              "      <td>'Latin America and Caribbean'</td>\n",
              "      <td>6.485</td>\n",
              "      <td>1.06166</td>\n",
              "      <td>Uruguay</td>\n",
              "    </tr>\n",
              "    <tr>\n",
              "      <th>107</th>\n",
              "      <td>Vietnam</td>\n",
              "      <td>53.0</td>\n",
              "      <td>6.1</td>\n",
              "      <td>1.77</td>\n",
              "      <td>2231.40</td>\n",
              "      <td>1643.580000</td>\n",
              "      <td>39.242500</td>\n",
              "      <td>'Southeastern Asia'</td>\n",
              "      <td>5.360</td>\n",
              "      <td>0.63216</td>\n",
              "      <td>Vietnam</td>\n",
              "    </tr>\n",
              "    <tr>\n",
              "      <th>108</th>\n",
              "      <td>South Africa</td>\n",
              "      <td>49.0</td>\n",
              "      <td>6.3</td>\n",
              "      <td>2.47</td>\n",
              "      <td>3889.32</td>\n",
              "      <td>1506.400000</td>\n",
              "      <td>63.726667</td>\n",
              "      <td>'Sub-Saharan Africa'</td>\n",
              "      <td>4.642</td>\n",
              "      <td>0.92049</td>\n",
              "      <td>South Africa</td>\n",
              "    </tr>\n",
              "    <tr>\n",
              "      <th>109</th>\n",
              "      <td>Zambia</td>\n",
              "      <td>37.0</td>\n",
              "      <td>5.0</td>\n",
              "      <td>2.61</td>\n",
              "      <td>956.76</td>\n",
              "      <td>510.060000</td>\n",
              "      <td>55.120000</td>\n",
              "      <td>'Sub-Saharan Africa'</td>\n",
              "      <td>5.129</td>\n",
              "      <td>0.47038</td>\n",
              "      <td>Zambia</td>\n",
              "    </tr>\n",
              "    <tr>\n",
              "      <th>110</th>\n",
              "      <td>Zimbabwe</td>\n",
              "      <td>33.0</td>\n",
              "      <td>4.1</td>\n",
              "      <td>2.16</td>\n",
              "      <td>1768.56</td>\n",
              "      <td>1230.600000</td>\n",
              "      <td>43.150000</td>\n",
              "      <td>'Sub-Saharan Africa'</td>\n",
              "      <td>4.610</td>\n",
              "      <td>0.27100</td>\n",
              "      <td>Zimbabwe</td>\n",
              "    </tr>\n",
              "  </tbody>\n",
              "</table>\n",
              "<p>111 rows × 11 columns</p>\n",
              "</div>\n",
              "      <button class=\"colab-df-convert\" onclick=\"convertToInteractive('df-b0f6ab8f-efed-4b23-b6e9-980cee4e8d15')\"\n",
              "              title=\"Convert this dataframe to an interactive table.\"\n",
              "              style=\"display:none;\">\n",
              "        \n",
              "  <svg xmlns=\"http://www.w3.org/2000/svg\" height=\"24px\"viewBox=\"0 0 24 24\"\n",
              "       width=\"24px\">\n",
              "    <path d=\"M0 0h24v24H0V0z\" fill=\"none\"/>\n",
              "    <path d=\"M18.56 5.44l.94 2.06.94-2.06 2.06-.94-2.06-.94-.94-2.06-.94 2.06-2.06.94zm-11 1L8.5 8.5l.94-2.06 2.06-.94-2.06-.94L8.5 2.5l-.94 2.06-2.06.94zm10 10l.94 2.06.94-2.06 2.06-.94-2.06-.94-.94-2.06-.94 2.06-2.06.94z\"/><path d=\"M17.41 7.96l-1.37-1.37c-.4-.4-.92-.59-1.43-.59-.52 0-1.04.2-1.43.59L10.3 9.45l-7.72 7.72c-.78.78-.78 2.05 0 2.83L4 21.41c.39.39.9.59 1.41.59.51 0 1.02-.2 1.41-.59l7.78-7.78 2.81-2.81c.8-.78.8-2.07 0-2.86zM5.41 20L4 18.59l7.72-7.72 1.47 1.35L5.41 20z\"/>\n",
              "  </svg>\n",
              "      </button>\n",
              "      \n",
              "  <style>\n",
              "    .colab-df-container {\n",
              "      display:flex;\n",
              "      flex-wrap:wrap;\n",
              "      gap: 12px;\n",
              "    }\n",
              "\n",
              "    .colab-df-convert {\n",
              "      background-color: #E8F0FE;\n",
              "      border: none;\n",
              "      border-radius: 50%;\n",
              "      cursor: pointer;\n",
              "      display: none;\n",
              "      fill: #1967D2;\n",
              "      height: 32px;\n",
              "      padding: 0 0 0 0;\n",
              "      width: 32px;\n",
              "    }\n",
              "\n",
              "    .colab-df-convert:hover {\n",
              "      background-color: #E2EBFA;\n",
              "      box-shadow: 0px 1px 2px rgba(60, 64, 67, 0.3), 0px 1px 3px 1px rgba(60, 64, 67, 0.15);\n",
              "      fill: #174EA6;\n",
              "    }\n",
              "\n",
              "    [theme=dark] .colab-df-convert {\n",
              "      background-color: #3B4455;\n",
              "      fill: #D2E3FC;\n",
              "    }\n",
              "\n",
              "    [theme=dark] .colab-df-convert:hover {\n",
              "      background-color: #434B5C;\n",
              "      box-shadow: 0px 1px 3px 1px rgba(0, 0, 0, 0.15);\n",
              "      filter: drop-shadow(0px 1px 2px rgba(0, 0, 0, 0.3));\n",
              "      fill: #FFFFFF;\n",
              "    }\n",
              "  </style>\n",
              "\n",
              "      <script>\n",
              "        const buttonEl =\n",
              "          document.querySelector('#df-b0f6ab8f-efed-4b23-b6e9-980cee4e8d15 button.colab-df-convert');\n",
              "        buttonEl.style.display =\n",
              "          google.colab.kernel.accessAllowed ? 'block' : 'none';\n",
              "\n",
              "        async function convertToInteractive(key) {\n",
              "          const element = document.querySelector('#df-b0f6ab8f-efed-4b23-b6e9-980cee4e8d15');\n",
              "          const dataTable =\n",
              "            await google.colab.kernel.invokeFunction('convertToInteractive',\n",
              "                                                     [key], {});\n",
              "          if (!dataTable) return;\n",
              "\n",
              "          const docLinkHtml = 'Like what you see? Visit the ' +\n",
              "            '<a target=\"_blank\" href=https://colab.research.google.com/notebooks/data_table.ipynb>data table notebook</a>'\n",
              "            + ' to learn more about interactive tables.';\n",
              "          element.innerHTML = '';\n",
              "          dataTable['output_type'] = 'display_data';\n",
              "          await google.colab.output.renderOutput(dataTable, element);\n",
              "          const docLink = document.createElement('div');\n",
              "          docLink.innerHTML = docLinkHtml;\n",
              "          element.appendChild(docLink);\n",
              "        }\n",
              "      </script>\n",
              "    </div>\n",
              "  </div>\n",
              "  "
            ],
            "text/plain": [
              "          country  adjusted_satisfaction  avg_satisfaction  std_satisfaction  \\\n",
              "0         Armenia                   37.0               4.9              2.42   \n",
              "1          Angola                   26.0               4.3              3.19   \n",
              "2       Argentina                   60.0               7.1              1.91   \n",
              "3         Austria                   59.0               7.2              2.11   \n",
              "4       Australia                   65.0               7.6              1.80   \n",
              "..            ...                    ...               ...               ...   \n",
              "106       Uruguay                   58.0               7.0              2.13   \n",
              "107       Vietnam                   53.0               6.1              1.77   \n",
              "108  South Africa                   49.0               6.3              2.47   \n",
              "109        Zambia                   37.0               5.0              2.61   \n",
              "110      Zimbabwe                   33.0               4.1              2.16   \n",
              "\n",
              "     avg_income  median_income  income_inequality  \\\n",
              "0       2096.76    1731.506667          31.445556   \n",
              "1       1448.88    1044.240000          42.720000   \n",
              "2       7101.12    5109.400000          45.475556   \n",
              "3      19457.04   16879.620000          30.296250   \n",
              "4      19917.00   15846.060000          35.285000   \n",
              "..          ...            ...                ...   \n",
              "106     7544.40    5269.226667          45.014444   \n",
              "107     2231.40    1643.580000          39.242500   \n",
              "108     3889.32    1506.400000          63.726667   \n",
              "109      956.76     510.060000          55.120000   \n",
              "110     1768.56    1230.600000          43.150000   \n",
              "\n",
              "                            region  happyScore      GDP     country.1  \n",
              "0     'Central and Eastern Europe'       4.350  0.76821       Armenia  \n",
              "1             'Sub-Saharan Africa'       4.033  0.75778        Angola  \n",
              "2    'Latin America and Caribbean'       6.574  1.05351     Argentina  \n",
              "3                 'Western Europe'       7.200  1.33723       Austria  \n",
              "4      'Australia and New Zealand'       7.284  1.33358     Australia  \n",
              "..                             ...         ...      ...           ...  \n",
              "106  'Latin America and Caribbean'       6.485  1.06166       Uruguay  \n",
              "107            'Southeastern Asia'       5.360  0.63216       Vietnam  \n",
              "108           'Sub-Saharan Africa'       4.642  0.92049  South Africa  \n",
              "109           'Sub-Saharan Africa'       5.129  0.47038        Zambia  \n",
              "110           'Sub-Saharan Africa'       4.610  0.27100      Zimbabwe  \n",
              "\n",
              "[111 rows x 11 columns]"
            ]
          },
          "metadata": {},
          "execution_count": 1
        }
      ],
      "source": [
        "import pandas as pd\n",
        "\n",
        "data = pd.read_csv('/content/123.csv')\n",
        "data2 = data\n",
        "data2"
      ]
    },
    {
      "cell_type": "code",
      "source": [
        "data.info()"
      ],
      "metadata": {
        "colab": {
          "base_uri": "https://localhost:8080/"
        },
        "id": "iPjwaMUtHD69",
        "outputId": "275014a9-ce9f-455b-f3ef-d9d54b9a2ba6"
      },
      "execution_count": null,
      "outputs": [
        {
          "output_type": "stream",
          "name": "stdout",
          "text": [
            "<class 'pandas.core.frame.DataFrame'>\n",
            "RangeIndex: 111 entries, 0 to 110\n",
            "Data columns (total 11 columns):\n",
            " #   Column                 Non-Null Count  Dtype  \n",
            "---  ------                 --------------  -----  \n",
            " 0   country                111 non-null    object \n",
            " 1   adjusted_satisfaction  111 non-null    float64\n",
            " 2   avg_satisfaction       111 non-null    float64\n",
            " 3   std_satisfaction       111 non-null    float64\n",
            " 4   avg_income             111 non-null    float64\n",
            " 5   median_income          111 non-null    float64\n",
            " 6   income_inequality      111 non-null    float64\n",
            " 7   region                 111 non-null    object \n",
            " 8   happyScore             111 non-null    float64\n",
            " 9   GDP                    111 non-null    float64\n",
            " 10  country.1              111 non-null    object \n",
            "dtypes: float64(8), object(3)\n",
            "memory usage: 9.7+ KB\n"
          ]
        }
      ]
    },
    {
      "cell_type": "code",
      "source": [
        "data.columns"
      ],
      "metadata": {
        "colab": {
          "base_uri": "https://localhost:8080/"
        },
        "id": "NyV4R2l2KiC8",
        "outputId": "d76f3d4d-5822-4aa0-81f8-919083c828bd"
      },
      "execution_count": null,
      "outputs": [
        {
          "output_type": "execute_result",
          "data": {
            "text/plain": [
              "Index(['country', 'adjusted_satisfaction', 'avg_satisfaction',\n",
              "       'std_satisfaction', 'avg_income', 'median_income', 'income_inequality',\n",
              "       'region', 'happyScore', 'GDP', 'country.1'],\n",
              "      dtype='object')"
            ]
          },
          "metadata": {},
          "execution_count": 3
        }
      ]
    },
    {
      "cell_type": "code",
      "source": [
        "happy = data['happyScore']\n",
        "income = data['avg_income']\n",
        "ineq = data['income_inequality']\n",
        "\n",
        "income.max()"
      ],
      "metadata": {
        "colab": {
          "base_uri": "https://localhost:8080/"
        },
        "id": "bK8T0FViIaGe",
        "outputId": "f0db9959-a22b-46d2-d3e3-92523dfff471"
      },
      "execution_count": null,
      "outputs": [
        {
          "output_type": "execute_result",
          "data": {
            "text/plain": [
              "26182.275"
            ]
          },
          "metadata": {},
          "execution_count": 4
        }
      ]
    },
    {
      "cell_type": "code",
      "source": [
        "import matplotlib.pyplot as plt\n",
        "plt.xlabel('Income')\n",
        "plt.ylabel('Happiness')\n",
        "plt.scatter(income,happy)\n",
        "plt.show()"
      ],
      "metadata": {
        "colab": {
          "base_uri": "https://localhost:8080/",
          "height": 278
        },
        "id": "q9sHHufAI2d8",
        "outputId": "68df7efe-bd81-47d5-d8cc-2416bf68e102"
      },
      "execution_count": null,
      "outputs": [
        {
          "output_type": "display_data",
          "data": {
            "image/png": "[encoded data removed]",
            "text/plain": [
              "<Figure size 432x288 with 1 Axes>"
            ]
          },
          "metadata": {
            "needs_background": "light"
          }
        }
      ]
    },
    {
      "cell_type": "code",
      "source": [],
      "metadata": {
        "id": "rGiDqvi5uUa8"
      },
      "execution_count": null,
      "outputs": []
    },
    {
      "cell_type": "code",
      "source": [],
      "metadata": {
        "id": "w3QIYzWGMFf8"
      },
      "execution_count": null,
      "outputs": []
    },
    {
      "cell_type": "markdown",
      "source": [
        "#Сортировка и филтрация"
      ],
      "metadata": {
        "id": "t1aut1MQMG6O"
      }
    },
    {
      "cell_type": "code",
      "source": [
        "data.sort_values('avg_income', inplace =True,ignore_index = True)\n",
        "richest = data[ data['avg_income'] > 12000 ]"
      ],
      "metadata": {
        "id": "O1lbt-kVMLWH"
      },
      "execution_count": null,
      "outputs": []
    },
    {
      "cell_type": "code",
      "source": [
        "richest.iloc[0]"
      ],
      "metadata": {
        "colab": {
          "base_uri": "https://localhost:8080/"
        },
        "id": "0AZJurwKMLlF",
        "outputId": "8ec84c05-fc75-417a-d59f-84e74f629465"
      },
      "execution_count": null,
      "outputs": [
        {
          "output_type": "execute_result",
          "data": {
            "text/plain": [
              "country                                      Slovenia\n",
              "adjusted_satisfaction                            57.0\n",
              "avg_satisfaction                                  7.0\n",
              "std_satisfaction                                 2.14\n",
              "avg_income                                  12174.765\n",
              "median_income                               11071.995\n",
              "income_inequality                            24.67875\n",
              "region                   'Central and Eastern Europe'\n",
              "happyScore                                      5.848\n",
              "GDP                                           1.18498\n",
              "country.1                                    Slovenia\n",
              "Name: 90, dtype: object"
            ]
          },
          "metadata": {},
          "execution_count": 7
        }
      ]
    },
    {
      "cell_type": "code",
      "source": [
        "import numpy as np\n",
        "\n",
        "mean_rich = np.mean(richest['avg_income'])\n",
        "mean_basic = np.mean(data['avg_income'])\n",
        "\n",
        "print(mean_basic,mean_rich)"
      ],
      "metadata": {
        "colab": {
          "base_uri": "https://localhost:8080/"
        },
        "id": "lPeeXjknNWpY",
        "outputId": "1ad34e93-7faf-440a-d120-d874f48b5ef5"
      },
      "execution_count": null,
      "outputs": [
        {
          "output_type": "stream",
          "name": "stdout",
          "text": [
            "6442.751416214639 18445.75278911565\n"
          ]
        }
      ]
    },
    {
      "cell_type": "markdown",
      "source": [
        "#Labeling points o a graph"
      ],
      "metadata": {
        "id": "UtygOJt7X8pZ"
      }
    },
    {
      "cell_type": "code",
      "source": [
        "plt.scatter(richest['avg_income'],richest['happyScore'])\n",
        "\n",
        "plt.text(richest.iloc[-1]['avg_income'],\n",
        "         richest.iloc[-1]['happyScore'],\n",
        "         richest.iloc[-1]['country'])\n",
        "\n",
        "plt.text(richest.iloc[0]['avg_income'],\n",
        "         richest.iloc[0]['happyScore'],\n",
        "         richest.iloc[0]['country'])\n",
        "\n",
        "plt.text(richest.iloc[10]['avg_income'],\n",
        "         richest.iloc[10]['happyScore'],\n",
        "         richest.iloc[10]['country'])\n",
        "\n",
        "\n",
        "plt.text(richest.iloc[13]['avg_income'],\n",
        "         richest.iloc[13]['happyScore'],\n",
        "         richest.iloc[13]['country'])\n",
        "\n",
        "plt.text(richest.iloc[19]['avg_income'],\n",
        "         richest.iloc[19]['happyScore'],\n",
        "         richest.iloc[19]['country'])\n",
        "\n"
      ],
      "metadata": {
        "colab": {
          "base_uri": "https://localhost:8080/",
          "height": 282
        },
        "id": "FSniSj62Pv7q",
        "outputId": "877115ab-f5f0-417f-8757-a92a02110136"
      },
      "execution_count": null,
      "outputs": [
        {
          "output_type": "execute_result",
          "data": {
            "text/plain": [
              "Text(23400.04, 7.587000000000001, 'Switzerland')"
            ]
          },
          "metadata": {},
          "execution_count": 9
        },
        {
          "output_type": "display_data",
          "data": {
            "image/png": "[encoded data removed]",
            "text/plain": [
              "<Figure size 432x288 with 1 Axes>"
            ]
          },
          "metadata": {
            "needs_background": "light"
          }
        }
      ]
    },
    {
      "cell_type": "code",
      "source": [
        "richest.happyScore.max()"
      ],
      "metadata": {
        "colab": {
          "base_uri": "https://localhost:8080/"
        },
        "id": "QyN6dMCnasWl",
        "outputId": "03fb9dfe-09f2-42f4-98d8-b42e2c93ccfc"
      },
      "execution_count": null,
      "outputs": [
        {
          "output_type": "execute_result",
          "data": {
            "text/plain": [
              "7.587000000000001"
            ]
          },
          "metadata": {},
          "execution_count": 10
        }
      ]
    },
    {
      "cell_type": "code",
      "source": [
        "richest = richest.reset_index(drop=True)"
      ],
      "metadata": {
        "id": "x5LE3If84wOP"
      },
      "execution_count": null,
      "outputs": []
    },
    {
      "cell_type": "code",
      "source": [
        "richest.happyScore.idxmax()"
      ],
      "metadata": {
        "colab": {
          "base_uri": "https://localhost:8080/"
        },
        "id": "vYIafe60bVuH",
        "outputId": "f208f7dc-126a-44fa-f3cf-f52fb48bbe2b"
      },
      "execution_count": null,
      "outputs": [
        {
          "output_type": "execute_result",
          "data": {
            "text/plain": [
              "19"
            ]
          },
          "metadata": {},
          "execution_count": 12
        }
      ]
    },
    {
      "cell_type": "code",
      "source": [
        "richest.loc[ richest.happyScore.idxmax() ]"
      ],
      "metadata": {
        "colab": {
          "base_uri": "https://localhost:8080/"
        },
        "id": "WFzX3ziZbeq8",
        "outputId": "9b762c75-c256-40e1-b0f2-2401e3a9befe"
      },
      "execution_count": null,
      "outputs": [
        {
          "output_type": "execute_result",
          "data": {
            "text/plain": [
              "country                       Switzerland\n",
              "adjusted_satisfaction                70.0\n",
              "avg_satisfaction                      8.0\n",
              "std_satisfaction                     1.62\n",
              "avg_income                       23400.04\n",
              "median_income                    19442.92\n",
              "income_inequality                   32.93\n",
              "region                   'Western Europe'\n",
              "happyScore                          7.587\n",
              "GDP                               1.39651\n",
              "country.1                     Switzerland\n",
              "Name: 19, dtype: object"
            ]
          },
          "metadata": {},
          "execution_count": 13
        }
      ]
    },
    {
      "cell_type": "markdown",
      "source": [
        "#Итерации"
      ],
      "metadata": {
        "id": "jttr44D567mP"
      }
    },
    {
      "cell_type": "code",
      "source": [
        "for k,row in richest.iterrows():\n",
        "  print(row['country'])"
      ],
      "metadata": {
        "colab": {
          "base_uri": "https://localhost:8080/"
        },
        "id": "f8hCvWHc5iag",
        "outputId": "a75ad308-d588-42e2-c245-00cf050b2871"
      },
      "execution_count": null,
      "outputs": [
        {
          "output_type": "stream",
          "name": "stdout",
          "text": [
            "Slovenia\n",
            "Spain\n",
            "Japan\n",
            "Italy\n",
            "Ireland\n",
            "Sweden\n",
            "United Kingdom\n",
            "Belgium\n",
            "Finland\n",
            "Denmark\n",
            "France\n",
            "Netherlands\n",
            "Iceland\n",
            "Germany\n",
            "Austria\n",
            "Australia\n",
            "Canada\n",
            "Norway\n",
            "United States\n",
            "Switzerland\n",
            "Luxembourg\n"
          ]
        }
      ]
    },
    {
      "cell_type": "code",
      "source": [
        "plt.scatter(richest['avg_income'],richest['happyScore'])\n",
        "for k,row in richest.iterrows():\n",
        "  plt.text(richest.iloc[k]['avg_income'],\n",
        "         richest.iloc[k]['happyScore'],\n",
        "         richest.iloc[k]['country'])"
      ],
      "metadata": {
        "colab": {
          "base_uri": "https://localhost:8080/",
          "height": 265
        },
        "id": "9sn1j71f6Ptg",
        "outputId": "4f4863da-ebf0-40b7-a27d-16d901181ea9"
      },
      "execution_count": null,
      "outputs": [
        {
          "output_type": "display_data",
          "data": {
            "image/png": "[encoded data removed]",
            "text/plain": [
              "<Figure size 432x288 with 1 Axes>"
            ]
          },
          "metadata": {
            "needs_background": "light"
          }
        }
      ]
    },
    {
      "cell_type": "code",
      "source": [
        "plt.scatter(richest['avg_income'],richest['happyScore'])\n",
        "for k,row in richest.iterrows():\n",
        "  plt.text(row['avg_income'],\n",
        "         row['happyScore'],\n",
        "        row['country'])"
      ],
      "metadata": {
        "colab": {
          "base_uri": "https://localhost:8080/",
          "height": 265
        },
        "id": "vwr5mcOy7C5r",
        "outputId": "160365fa-09c8-4193-bb30-df9d65ee325e"
      },
      "execution_count": null,
      "outputs": [
        {
          "output_type": "display_data",
          "data": {
            "image/png": "[encoded data removed]",
            "text/plain": [
              "<Figure size 432x288 with 1 Axes>"
            ]
          },
          "metadata": {
            "needs_background": "light"
          }
        }
      ]
    },
    {
      "cell_type": "code",
      "source": [
        "plt.xlabel('Income')\n",
        "plt.ylabel('Happiness')\n",
        "plt.scatter(income,happy, s = ineq*12,alpha = 0.25)\n",
        "plt.show()"
      ],
      "metadata": {
        "colab": {
          "base_uri": "https://localhost:8080/",
          "height": 278
        },
        "id": "t1cmJPBOEMTH",
        "outputId": "a29db929-307e-4199-dd85-48e5a7f1bb0b"
      },
      "execution_count": null,
      "outputs": [
        {
          "output_type": "display_data",
          "data": {
            "image/png": "[encoded data removed]",
            "text/plain": [
              "<Figure size 432x288 with 1 Axes>"
            ]
          },
          "metadata": {
            "needs_background": "light"
          }
        }
      ]
    },
    {
      "cell_type": "markdown",
      "source": [
        "счастье >6.5 and доход < 12k"
      ],
      "metadata": {
        "id": "ZHsLo68rLe8B"
      }
    },
    {
      "cell_type": "code",
      "source": [
        "happiest =  data[(data['happyScore'] > 6.5) & (data['avg_income'] < 12000)]\n",
        "happiest"
      ],
      "metadata": {
        "colab": {
          "base_uri": "https://localhost:8080/",
          "height": 780
        },
        "id": "H7nbpcyGHk12",
        "outputId": "0f863a9d-b13e-4dde-d4b3-235abd7b1822"
      },
      "execution_count": null,
      "outputs": [
        {
          "output_type": "execute_result",
          "data": {
            "text/html": [
              "\n",
              "  <div id=\"df-c319d58e-8bec-4654-96f8-3f7abd4eca83\">\n",
              "    <div class=\"colab-df-container\">\n",
              "      <div>\n",
              "<style scoped>\n",
              "    .dataframe tbody tr th:only-of-type {\n",
              "        vertical-align: middle;\n",
              "    }\n",
              "\n",
              "    .dataframe tbody tr th {\n",
              "        vertical-align: top;\n",
              "    }\n",
              "\n",
              "    .dataframe thead th {\n",
              "        text-align: right;\n",
              "    }\n",
              "</style>\n",
              "<table border=\"1\" class=\"dataframe\">\n",
              "  <thead>\n",
              "    <tr style=\"text-align: right;\">\n",
              "      <th></th>\n",
              "      <th>country</th>\n",
              "      <th>adjusted_satisfaction</th>\n",
              "      <th>avg_satisfaction</th>\n",
              "      <th>std_satisfaction</th>\n",
              "      <th>avg_income</th>\n",
              "      <th>median_income</th>\n",
              "      <th>income_inequality</th>\n",
              "      <th>region</th>\n",
              "      <th>happyScore</th>\n",
              "      <th>GDP</th>\n",
              "      <th>country.1</th>\n",
              "    </tr>\n",
              "  </thead>\n",
              "  <tbody>\n",
              "    <tr>\n",
              "      <th>59</th>\n",
              "      <td>Mexico</td>\n",
              "      <td>69.0</td>\n",
              "      <td>8.3</td>\n",
              "      <td>2.02</td>\n",
              "      <td>4148.000000</td>\n",
              "      <td>2646.973333</td>\n",
              "      <td>48.974444</td>\n",
              "      <td>'Latin America and Caribbean'</td>\n",
              "      <td>7.187</td>\n",
              "      <td>1.02054</td>\n",
              "      <td>Mexico</td>\n",
              "    </tr>\n",
              "    <tr>\n",
              "      <th>70</th>\n",
              "      <td>Brazil</td>\n",
              "      <td>56.0</td>\n",
              "      <td>6.9</td>\n",
              "      <td>2.19</td>\n",
              "      <td>5567.235000</td>\n",
              "      <td>3294.180000</td>\n",
              "      <td>54.333750</td>\n",
              "      <td>'Latin America and Caribbean'</td>\n",
              "      <td>6.983</td>\n",
              "      <td>0.98124</td>\n",
              "      <td>Brazil</td>\n",
              "    </tr>\n",
              "    <tr>\n",
              "      <th>71</th>\n",
              "      <td>Panama</td>\n",
              "      <td>65.0</td>\n",
              "      <td>7.8</td>\n",
              "      <td>2.02</td>\n",
              "      <td>6250.360000</td>\n",
              "      <td>3814.213333</td>\n",
              "      <td>52.664444</td>\n",
              "      <td>'Latin America and Caribbean'</td>\n",
              "      <td>6.786</td>\n",
              "      <td>1.06353</td>\n",
              "      <td>Panama</td>\n",
              "    </tr>\n",
              "    <tr>\n",
              "      <th>75</th>\n",
              "      <td>Costa Rica</td>\n",
              "      <td>73.0</td>\n",
              "      <td>8.5</td>\n",
              "      <td>1.71</td>\n",
              "      <td>6901.466667</td>\n",
              "      <td>4373.520000</td>\n",
              "      <td>49.018889</td>\n",
              "      <td>'Latin America and Caribbean'</td>\n",
              "      <td>7.226</td>\n",
              "      <td>0.95578</td>\n",
              "      <td>Costa Rica</td>\n",
              "    </tr>\n",
              "    <tr>\n",
              "      <th>77</th>\n",
              "      <td>Argentina</td>\n",
              "      <td>60.0</td>\n",
              "      <td>7.1</td>\n",
              "      <td>1.91</td>\n",
              "      <td>7101.120000</td>\n",
              "      <td>5109.400000</td>\n",
              "      <td>45.475556</td>\n",
              "      <td>'Latin America and Caribbean'</td>\n",
              "      <td>6.574</td>\n",
              "      <td>1.05351</td>\n",
              "      <td>Argentina</td>\n",
              "    </tr>\n",
              "    <tr>\n",
              "      <th>80</th>\n",
              "      <td>Chile</td>\n",
              "      <td>55.0</td>\n",
              "      <td>6.8</td>\n",
              "      <td>2.13</td>\n",
              "      <td>7557.990000</td>\n",
              "      <td>4448.010000</td>\n",
              "      <td>51.270000</td>\n",
              "      <td>'Latin America and Caribbean'</td>\n",
              "      <td>6.670</td>\n",
              "      <td>1.10715</td>\n",
              "      <td>Chile</td>\n",
              "    </tr>\n",
              "    <tr>\n",
              "      <th>85</th>\n",
              "      <td>Czech Republic</td>\n",
              "      <td>54.0</td>\n",
              "      <td>6.6</td>\n",
              "      <td>2.13</td>\n",
              "      <td>9430.905000</td>\n",
              "      <td>8363.370000</td>\n",
              "      <td>26.413750</td>\n",
              "      <td>'Central and Eastern Europe'</td>\n",
              "      <td>6.505</td>\n",
              "      <td>1.17898</td>\n",
              "      <td>Czech Republic</td>\n",
              "    </tr>\n",
              "    <tr>\n",
              "      <th>88</th>\n",
              "      <td>Israel</td>\n",
              "      <td>61.0</td>\n",
              "      <td>7.3</td>\n",
              "      <td>2.09</td>\n",
              "      <td>10645.240000</td>\n",
              "      <td>8234.680000</td>\n",
              "      <td>41.940000</td>\n",
              "      <td>'Middle East and Northern Africa'</td>\n",
              "      <td>7.278</td>\n",
              "      <td>1.22857</td>\n",
              "      <td>Israel</td>\n",
              "    </tr>\n",
              "  </tbody>\n",
              "</table>\n",
              "</div>\n",
              "      <button class=\"colab-df-convert\" onclick=\"convertToInteractive('df-c319d58e-8bec-4654-96f8-3f7abd4eca83')\"\n",
              "              title=\"Convert this dataframe to an interactive table.\"\n",
              "              style=\"display:none;\">\n",
              "        \n",
              "  <svg xmlns=\"http://www.w3.org/2000/svg\" height=\"24px\"viewBox=\"0 0 24 24\"\n",
              "       width=\"24px\">\n",
              "    <path d=\"M0 0h24v24H0V0z\" fill=\"none\"/>\n",
              "    <path d=\"M18.56 5.44l.94 2.06.94-2.06 2.06-.94-2.06-.94-.94-2.06-.94 2.06-2.06.94zm-11 1L8.5 8.5l.94-2.06 2.06-.94-2.06-.94L8.5 2.5l-.94 2.06-2.06.94zm10 10l.94 2.06.94-2.06 2.06-.94-2.06-.94-.94-2.06-.94 2.06-2.06.94z\"/><path d=\"M17.41 7.96l-1.37-1.37c-.4-.4-.92-.59-1.43-.59-.52 0-1.04.2-1.43.59L10.3 9.45l-7.72 7.72c-.78.78-.78 2.05 0 2.83L4 21.41c.39.39.9.59 1.41.59.51 0 1.02-.2 1.41-.59l7.78-7.78 2.81-2.81c.8-.78.8-2.07 0-2.86zM5.41 20L4 18.59l7.72-7.72 1.47 1.35L5.41 20z\"/>\n",
              "  </svg>\n",
              "      </button>\n",
              "      \n",
              "  <style>\n",
              "    .colab-df-container {\n",
              "      display:flex;\n",
              "      flex-wrap:wrap;\n",
              "      gap: 12px;\n",
              "    }\n",
              "\n",
              "    .colab-df-convert {\n",
              "      background-color: #E8F0FE;\n",
              "      border: none;\n",
              "      border-radius: 50%;\n",
              "      cursor: pointer;\n",
              "      display: none;\n",
              "      fill: #1967D2;\n",
              "      height: 32px;\n",
              "      padding: 0 0 0 0;\n",
              "      width: 32px;\n",
              "    }\n",
              "\n",
              "    .colab-df-convert:hover {\n",
              "      background-color: #E2EBFA;\n",
              "      box-shadow: 0px 1px 2px rgba(60, 64, 67, 0.3), 0px 1px 3px 1px rgba(60, 64, 67, 0.15);\n",
              "      fill: #174EA6;\n",
              "    }\n",
              "\n",
              "    [theme=dark] .colab-df-convert {\n",
              "      background-color: #3B4455;\n",
              "      fill: #D2E3FC;\n",
              "    }\n",
              "\n",
              "    [theme=dark] .colab-df-convert:hover {\n",
              "      background-color: #434B5C;\n",
              "      box-shadow: 0px 1px 3px 1px rgba(0, 0, 0, 0.15);\n",
              "      filter: drop-shadow(0px 1px 2px rgba(0, 0, 0, 0.3));\n",
              "      fill: #FFFFFF;\n",
              "    }\n",
              "  </style>\n",
              "\n",
              "      <script>\n",
              "        const buttonEl =\n",
              "          document.querySelector('#df-c319d58e-8bec-4654-96f8-3f7abd4eca83 button.colab-df-convert');\n",
              "        buttonEl.style.display =\n",
              "          google.colab.kernel.accessAllowed ? 'block' : 'none';\n",
              "\n",
              "        async function convertToInteractive(key) {\n",
              "          const element = document.querySelector('#df-c319d58e-8bec-4654-96f8-3f7abd4eca83');\n",
              "          const dataTable =\n",
              "            await google.colab.kernel.invokeFunction('convertToInteractive',\n",
              "                                                     [key], {});\n",
              "          if (!dataTable) return;\n",
              "\n",
              "          const docLinkHtml = 'Like what you see? Visit the ' +\n",
              "            '<a target=\"_blank\" href=https://colab.research.google.com/notebooks/data_table.ipynb>data table notebook</a>'\n",
              "            + ' to learn more about interactive tables.';\n",
              "          element.innerHTML = '';\n",
              "          dataTable['output_type'] = 'display_data';\n",
              "          await google.colab.output.renderOutput(dataTable, element);\n",
              "          const docLink = document.createElement('div');\n",
              "          docLink.innerHTML = docLinkHtml;\n",
              "          element.appendChild(docLink);\n",
              "        }\n",
              "      </script>\n",
              "    </div>\n",
              "  </div>\n",
              "  "
            ],
            "text/plain": [
              "           country  adjusted_satisfaction  avg_satisfaction  std_satisfaction  \\\n",
              "59          Mexico                   69.0               8.3              2.02   \n",
              "70          Brazil                   56.0               6.9              2.19   \n",
              "71          Panama                   65.0               7.8              2.02   \n",
              "75      Costa Rica                   73.0               8.5              1.71   \n",
              "77       Argentina                   60.0               7.1              1.91   \n",
              "80           Chile                   55.0               6.8              2.13   \n",
              "85  Czech Republic                   54.0               6.6              2.13   \n",
              "88          Israel                   61.0               7.3              2.09   \n",
              "\n",
              "      avg_income  median_income  income_inequality  \\\n",
              "59   4148.000000    2646.973333          48.974444   \n",
              "70   5567.235000    3294.180000          54.333750   \n",
              "71   6250.360000    3814.213333          52.664444   \n",
              "75   6901.466667    4373.520000          49.018889   \n",
              "77   7101.120000    5109.400000          45.475556   \n",
              "80   7557.990000    4448.010000          51.270000   \n",
              "85   9430.905000    8363.370000          26.413750   \n",
              "88  10645.240000    8234.680000          41.940000   \n",
              "\n",
              "                               region  happyScore      GDP       country.1  \n",
              "59      'Latin America and Caribbean'       7.187  1.02054          Mexico  \n",
              "70      'Latin America and Caribbean'       6.983  0.98124          Brazil  \n",
              "71      'Latin America and Caribbean'       6.786  1.06353          Panama  \n",
              "75      'Latin America and Caribbean'       7.226  0.95578      Costa Rica  \n",
              "77      'Latin America and Caribbean'       6.574  1.05351       Argentina  \n",
              "80      'Latin America and Caribbean'       6.670  1.10715           Chile  \n",
              "85       'Central and Eastern Europe'       6.505  1.17898  Czech Republic  \n",
              "88  'Middle East and Northern Africa'       7.278  1.22857          Israel  "
            ]
          },
          "metadata": {},
          "execution_count": 18
        }
      ]
    },
    {
      "cell_type": "code",
      "source": [
        "m_inc = data['median_income']\n",
        "plt.scatter(income,happy)\n",
        "for k,row in happiest.iterrows():\n",
        "  plt.text(row['avg_income'],\n",
        "         row['happyScore'],\n",
        "        row['country'])"
      ],
      "metadata": {
        "colab": {
          "base_uri": "https://localhost:8080/",
          "height": 265
        },
        "id": "GHxnEXF7sBdc",
        "outputId": "da3aac05-e175-4327-96df-4057ea391a47"
      },
      "execution_count": null,
      "outputs": [
        {
          "output_type": "display_data",
          "data": {
            "image/png": "[encoded data removed]",
            "text/plain": [
              "<Figure size 432x288 with 1 Axes>"
            ]
          },
          "metadata": {
            "needs_background": "light"
          }
        }
      ]
    },
    {
      "cell_type": "code",
      "source": [
        "happiest"
      ],
      "metadata": {
        "colab": {
          "base_uri": "https://localhost:8080/",
          "height": 780
        },
        "id": "Ol4Qa2x0y2os",
        "outputId": "ff2ae6a7-1cfa-4762-aa02-2be71a23fea4"
      },
      "execution_count": null,
      "outputs": [
        {
          "output_type": "execute_result",
          "data": {
            "text/html": [
              "\n",
              "  <div id=\"df-935f3145-0c78-45b9-892d-c0412a03575a\">\n",
              "    <div class=\"colab-df-container\">\n",
              "      <div>\n",
              "<style scoped>\n",
              "    .dataframe tbody tr th:only-of-type {\n",
              "        vertical-align: middle;\n",
              "    }\n",
              "\n",
              "    .dataframe tbody tr th {\n",
              "        vertical-align: top;\n",
              "    }\n",
              "\n",
              "    .dataframe thead th {\n",
              "        text-align: right;\n",
              "    }\n",
              "</style>\n",
              "<table border=\"1\" class=\"dataframe\">\n",
              "  <thead>\n",
              "    <tr style=\"text-align: right;\">\n",
              "      <th></th>\n",
              "      <th>country</th>\n",
              "      <th>adjusted_satisfaction</th>\n",
              "      <th>avg_satisfaction</th>\n",
              "      <th>std_satisfaction</th>\n",
              "      <th>avg_income</th>\n",
              "      <th>median_income</th>\n",
              "      <th>income_inequality</th>\n",
              "      <th>region</th>\n",
              "      <th>happyScore</th>\n",
              "      <th>GDP</th>\n",
              "      <th>country.1</th>\n",
              "    </tr>\n",
              "  </thead>\n",
              "  <tbody>\n",
              "    <tr>\n",
              "      <th>88</th>\n",
              "      <td>Israel</td>\n",
              "      <td>61.0</td>\n",
              "      <td>7.3</td>\n",
              "      <td>2.09</td>\n",
              "      <td>10645.240000</td>\n",
              "      <td>8234.680000</td>\n",
              "      <td>41.940000</td>\n",
              "      <td>'Middle East and Northern Africa'</td>\n",
              "      <td>7.278</td>\n",
              "      <td>1.22857</td>\n",
              "      <td>Israel</td>\n",
              "    </tr>\n",
              "    <tr>\n",
              "      <th>75</th>\n",
              "      <td>Costa Rica</td>\n",
              "      <td>73.0</td>\n",
              "      <td>8.5</td>\n",
              "      <td>1.71</td>\n",
              "      <td>6901.466667</td>\n",
              "      <td>4373.520000</td>\n",
              "      <td>49.018889</td>\n",
              "      <td>'Latin America and Caribbean'</td>\n",
              "      <td>7.226</td>\n",
              "      <td>0.95578</td>\n",
              "      <td>Costa Rica</td>\n",
              "    </tr>\n",
              "    <tr>\n",
              "      <th>59</th>\n",
              "      <td>Mexico</td>\n",
              "      <td>69.0</td>\n",
              "      <td>8.3</td>\n",
              "      <td>2.02</td>\n",
              "      <td>4148.000000</td>\n",
              "      <td>2646.973333</td>\n",
              "      <td>48.974444</td>\n",
              "      <td>'Latin America and Caribbean'</td>\n",
              "      <td>7.187</td>\n",
              "      <td>1.02054</td>\n",
              "      <td>Mexico</td>\n",
              "    </tr>\n",
              "    <tr>\n",
              "      <th>70</th>\n",
              "      <td>Brazil</td>\n",
              "      <td>56.0</td>\n",
              "      <td>6.9</td>\n",
              "      <td>2.19</td>\n",
              "      <td>5567.235000</td>\n",
              "      <td>3294.180000</td>\n",
              "      <td>54.333750</td>\n",
              "      <td>'Latin America and Caribbean'</td>\n",
              "      <td>6.983</td>\n",
              "      <td>0.98124</td>\n",
              "      <td>Brazil</td>\n",
              "    </tr>\n",
              "    <tr>\n",
              "      <th>71</th>\n",
              "      <td>Panama</td>\n",
              "      <td>65.0</td>\n",
              "      <td>7.8</td>\n",
              "      <td>2.02</td>\n",
              "      <td>6250.360000</td>\n",
              "      <td>3814.213333</td>\n",
              "      <td>52.664444</td>\n",
              "      <td>'Latin America and Caribbean'</td>\n",
              "      <td>6.786</td>\n",
              "      <td>1.06353</td>\n",
              "      <td>Panama</td>\n",
              "    </tr>\n",
              "    <tr>\n",
              "      <th>80</th>\n",
              "      <td>Chile</td>\n",
              "      <td>55.0</td>\n",
              "      <td>6.8</td>\n",
              "      <td>2.13</td>\n",
              "      <td>7557.990000</td>\n",
              "      <td>4448.010000</td>\n",
              "      <td>51.270000</td>\n",
              "      <td>'Latin America and Caribbean'</td>\n",
              "      <td>6.670</td>\n",
              "      <td>1.10715</td>\n",
              "      <td>Chile</td>\n",
              "    </tr>\n",
              "    <tr>\n",
              "      <th>77</th>\n",
              "      <td>Argentina</td>\n",
              "      <td>60.0</td>\n",
              "      <td>7.1</td>\n",
              "      <td>1.91</td>\n",
              "      <td>7101.120000</td>\n",
              "      <td>5109.400000</td>\n",
              "      <td>45.475556</td>\n",
              "      <td>'Latin America and Caribbean'</td>\n",
              "      <td>6.574</td>\n",
              "      <td>1.05351</td>\n",
              "      <td>Argentina</td>\n",
              "    </tr>\n",
              "    <tr>\n",
              "      <th>85</th>\n",
              "      <td>Czech Republic</td>\n",
              "      <td>54.0</td>\n",
              "      <td>6.6</td>\n",
              "      <td>2.13</td>\n",
              "      <td>9430.905000</td>\n",
              "      <td>8363.370000</td>\n",
              "      <td>26.413750</td>\n",
              "      <td>'Central and Eastern Europe'</td>\n",
              "      <td>6.505</td>\n",
              "      <td>1.17898</td>\n",
              "      <td>Czech Republic</td>\n",
              "    </tr>\n",
              "  </tbody>\n",
              "</table>\n",
              "</div>\n",
              "      <button class=\"colab-df-convert\" onclick=\"convertToInteractive('df-935f3145-0c78-45b9-892d-c0412a03575a')\"\n",
              "              title=\"Convert this dataframe to an interactive table.\"\n",
              "              style=\"display:none;\">\n",
              "        \n",
              "  <svg xmlns=\"http://www.w3.org/2000/svg\" height=\"24px\"viewBox=\"0 0 24 24\"\n",
              "       width=\"24px\">\n",
              "    <path d=\"M0 0h24v24H0V0z\" fill=\"none\"/>\n",
              "    <path d=\"M18.56 5.44l.94 2.06.94-2.06 2.06-.94-2.06-.94-.94-2.06-.94 2.06-2.06.94zm-11 1L8.5 8.5l.94-2.06 2.06-.94-2.06-.94L8.5 2.5l-.94 2.06-2.06.94zm10 10l.94 2.06.94-2.06 2.06-.94-2.06-.94-.94-2.06-.94 2.06-2.06.94z\"/><path d=\"M17.41 7.96l-1.37-1.37c-.4-.4-.92-.59-1.43-.59-.52 0-1.04.2-1.43.59L10.3 9.45l-7.72 7.72c-.78.78-.78 2.05 0 2.83L4 21.41c.39.39.9.59 1.41.59.51 0 1.02-.2 1.41-.59l7.78-7.78 2.81-2.81c.8-.78.8-2.07 0-2.86zM5.41 20L4 18.59l7.72-7.72 1.47 1.35L5.41 20z\"/>\n",
              "  </svg>\n",
              "      </button>\n",
              "      \n",
              "  <style>\n",
              "    .colab-df-container {\n",
              "      display:flex;\n",
              "      flex-wrap:wrap;\n",
              "      gap: 12px;\n",
              "    }\n",
              "\n",
              "    .colab-df-convert {\n",
              "      background-color: #E8F0FE;\n",
              "      border: none;\n",
              "      border-radius: 50%;\n",
              "      cursor: pointer;\n",
              "      display: none;\n",
              "      fill: #1967D2;\n",
              "      height: 32px;\n",
              "      padding: 0 0 0 0;\n",
              "      width: 32px;\n",
              "    }\n",
              "\n",
              "    .colab-df-convert:hover {\n",
              "      background-color: #E2EBFA;\n",
              "      box-shadow: 0px 1px 2px rgba(60, 64, 67, 0.3), 0px 1px 3px 1px rgba(60, 64, 67, 0.15);\n",
              "      fill: #174EA6;\n",
              "    }\n",
              "\n",
              "    [theme=dark] .colab-df-convert {\n",
              "      background-color: #3B4455;\n",
              "      fill: #D2E3FC;\n",
              "    }\n",
              "\n",
              "    [theme=dark] .colab-df-convert:hover {\n",
              "      background-color: #434B5C;\n",
              "      box-shadow: 0px 1px 3px 1px rgba(0, 0, 0, 0.15);\n",
              "      filter: drop-shadow(0px 1px 2px rgba(0, 0, 0, 0.3));\n",
              "      fill: #FFFFFF;\n",
              "    }\n",
              "  </style>\n",
              "\n",
              "      <script>\n",
              "        const buttonEl =\n",
              "          document.querySelector('#df-935f3145-0c78-45b9-892d-c0412a03575a button.colab-df-convert');\n",
              "        buttonEl.style.display =\n",
              "          google.colab.kernel.accessAllowed ? 'block' : 'none';\n",
              "\n",
              "        async function convertToInteractive(key) {\n",
              "          const element = document.querySelector('#df-935f3145-0c78-45b9-892d-c0412a03575a');\n",
              "          const dataTable =\n",
              "            await google.colab.kernel.invokeFunction('convertToInteractive',\n",
              "                                                     [key], {});\n",
              "          if (!dataTable) return;\n",
              "\n",
              "          const docLinkHtml = 'Like what you see? Visit the ' +\n",
              "            '<a target=\"_blank\" href=https://colab.research.google.com/notebooks/data_table.ipynb>data table notebook</a>'\n",
              "            + ' to learn more about interactive tables.';\n",
              "          element.innerHTML = '';\n",
              "          dataTable['output_type'] = 'display_data';\n",
              "          await google.colab.output.renderOutput(dataTable, element);\n",
              "          const docLink = document.createElement('div');\n",
              "          docLink.innerHTML = docLinkHtml;\n",
              "          element.appendChild(docLink);\n",
              "        }\n",
              "      </script>\n",
              "    </div>\n",
              "  </div>\n",
              "  "
            ],
            "text/plain": [
              "           country  adjusted_satisfaction  avg_satisfaction  std_satisfaction  \\\n",
              "88          Israel                   61.0               7.3              2.09   \n",
              "75      Costa Rica                   73.0               8.5              1.71   \n",
              "59          Mexico                   69.0               8.3              2.02   \n",
              "70          Brazil                   56.0               6.9              2.19   \n",
              "71          Panama                   65.0               7.8              2.02   \n",
              "80           Chile                   55.0               6.8              2.13   \n",
              "77       Argentina                   60.0               7.1              1.91   \n",
              "85  Czech Republic                   54.0               6.6              2.13   \n",
              "\n",
              "      avg_income  median_income  income_inequality  \\\n",
              "88  10645.240000    8234.680000          41.940000   \n",
              "75   6901.466667    4373.520000          49.018889   \n",
              "59   4148.000000    2646.973333          48.974444   \n",
              "70   5567.235000    3294.180000          54.333750   \n",
              "71   6250.360000    3814.213333          52.664444   \n",
              "80   7557.990000    4448.010000          51.270000   \n",
              "77   7101.120000    5109.400000          45.475556   \n",
              "85   9430.905000    8363.370000          26.413750   \n",
              "\n",
              "                               region  happyScore      GDP       country.1  \n",
              "88  'Middle East and Northern Africa'       7.278  1.22857          Israel  \n",
              "75      'Latin America and Caribbean'       7.226  0.95578      Costa Rica  \n",
              "59      'Latin America and Caribbean'       7.187  1.02054          Mexico  \n",
              "70      'Latin America and Caribbean'       6.983  0.98124          Brazil  \n",
              "71      'Latin America and Caribbean'       6.786  1.06353          Panama  \n",
              "80      'Latin America and Caribbean'       6.670  1.10715           Chile  \n",
              "77      'Latin America and Caribbean'       6.574  1.05351       Argentina  \n",
              "85       'Central and Eastern Europe'       6.505  1.17898  Czech Republic  "
            ]
          },
          "metadata": {},
          "execution_count": 47
        }
      ]
    },
    {
      "cell_type": "code",
      "source": [
        "happiest = happiest.sort_values(by='happyScore',ascending=False)"
      ],
      "metadata": {
        "id": "V3aTAdfKzFyh"
      },
      "execution_count": null,
      "outputs": []
    },
    {
      "cell_type": "code",
      "source": [
        "happiest = happiest.sort_values(by='happyScore',ascending=False)\n",
        "\n",
        "plt.xlabel('Income')\n",
        "plt.ylabel('Happiness')\n",
        "\n",
        "\n",
        "plt.scatter(happiest['avg_income'],happiest['happyScore'],s=50)\n",
        "\n",
        "#for k,row in happiest.iterrows():\n",
        "#    plt.text(row['avg_income'],\n",
        "#         row['happyScore'],\n",
        "#        row['country'])\n",
        "\n",
        "plt.text(happiest.iloc[0]['avg_income'],\n",
        "         happiest.iloc[0]['happyScore'],\n",
        "         happiest.iloc[0]['country'])\n",
        "\n",
        "plt.text(happiest.iloc[1]['avg_income'],\n",
        "         happiest.iloc[1]['happyScore'],\n",
        "         happiest.iloc[1]['country'])\n",
        "\n",
        "\n",
        "plt.text(happiest.iloc[2]['avg_income'],\n",
        "         happiest.iloc[2]['happyScore'],\n",
        "         happiest.iloc[2]['country'])\n",
        "plt.title('The Happiest poor')"
      ],
      "metadata": {
        "colab": {
          "base_uri": "https://localhost:8080/",
          "height": 312
        },
        "id": "nKJ17C_5HHLP",
        "outputId": "aefb5807-1b73-4736-a33a-7051928bdaf2"
      },
      "execution_count": null,
      "outputs": [
        {
          "output_type": "execute_result",
          "data": {
            "text/plain": [
              "Text(0.5, 1.0, 'The Happiest poor')"
            ]
          },
          "metadata": {},
          "execution_count": 49
        },
        {
          "output_type": "display_data",
          "data": {
            "image/png": "[encoded data removed]",
            "text/plain": [
              "<Figure size 432x288 with 1 Axes>"
            ]
          },
          "metadata": {
            "needs_background": "light"
          }
        }
      ]
    },
    {
      "cell_type": "markdown",
      "source": [
        "#Kmeans"
      ],
      "metadata": {
        "id": "bjP1LDvfRg3s"
      }
    },
    {
      "cell_type": "code",
      "source": [
        "happy2 = data2['happyScore']\n",
        "income2 = data2['avg_income']"
      ],
      "metadata": {
        "id": "zLrxtZc1Vnja"
      },
      "execution_count": null,
      "outputs": []
    },
    {
      "cell_type": "code",
      "source": [
        "from sklearn.cluster import KMeans\n",
        "import numpy as np\n",
        "\n",
        "income_happy = np.column_stack((income2,happy2))\n",
        "\n",
        "km_res = KMeans(n_clusters=3).fit(income_happy)\n",
        "clusters = km_res.cluster_centers_\n",
        "\n",
        "plt.scatter(income,happy)\n",
        "plt.scatter(clusters[:,0],clusters[:,1],s = 600)\n"
      ],
      "metadata": {
        "colab": {
          "base_uri": "https://localhost:8080/",
          "height": 282
        },
        "id": "sMB7g5eDRbvt",
        "outputId": "3d1392ab-b950-4347-c190-72ecd8d80067"
      },
      "execution_count": null,
      "outputs": [
        {
          "output_type": "execute_result",
          "data": {
            "text/plain": [
              "<matplotlib.collections.PathCollection at 0x7f412b34dd10>"
            ]
          },
          "metadata": {},
          "execution_count": 22
        },
        {
          "output_type": "display_data",
          "data": {
            "image/png": "[encoded data removed]",
            "text/plain": [
              "<Figure size 432x288 with 1 Axes>"
            ]
          },
          "metadata": {
            "needs_background": "light"
          }
        }
      ]
    },
    {
      "cell_type": "markdown",
      "source": [
        "Параметр для нампи чтобы показывать числа полностью\n",
        "https://numpy.org/doc/stable/reference/generated/numpy.set_printoptions.html"
      ],
      "metadata": {
        "id": "-X4RHZHdeG9Y"
      }
    },
    {
      "cell_type": "code",
      "source": [
        "np.set_printoptions(suppress=True)"
      ],
      "metadata": {
        "id": "yeA4P2IHdp19"
      },
      "execution_count": null,
      "outputs": []
    },
    {
      "cell_type": "code",
      "source": [
        " a = np.array(clusters)\n",
        " a"
      ],
      "metadata": {
        "colab": {
          "base_uri": "https://localhost:8080/"
        },
        "id": "e4gf80wmU1gP",
        "outputId": "a4fd7212-d7d1-4264-ebc3-94c163c5f9fb"
      },
      "execution_count": null,
      "outputs": [
        {
          "output_type": "execute_result",
          "data": {
            "text/plain": [
              "array([[ 2199.1212108 ,     4.75472308],\n",
              "       [18759.30217857,     7.0327    ],\n",
              "       [ 7577.55711256,     5.85080769]])"
            ]
          },
          "metadata": {},
          "execution_count": 24
        }
      ]
    }
  ]
}